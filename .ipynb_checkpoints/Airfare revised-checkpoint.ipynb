{
 "cells": [
  {
   "cell_type": "markdown",
   "metadata": {},
   "source": [
    "# Where might you find the cheapest airfare this Spring?\n",
    "\n",
    "<p>The Penny Hoarder used the latest [U.S. Department of Transportation airfare data](https://data.transportation.gov/browse?category=Aviation) from the second quarter of 2017 to find out if you can find a dream vacation on the cheap this Spring.</p>"
   ]
  },
  {
   "cell_type": "code",
   "execution_count": 33,
   "metadata": {},
   "outputs": [],
   "source": [
    "import pandas as pd\n",
    "import numpy as np\n",
    "%matplotlib inline"
   ]
  },
  {
   "cell_type": "code",
   "execution_count": 34,
   "metadata": {},
   "outputs": [],
   "source": [
    "airfare_raw = pd.read_csv(\"/Users/alexmahadevan/Code/Projects/airfare/Consumer_Airfare_Report__Table_1_-_Top_1_000_Contiguous_State_City-Pair_Markets.csv\")"
   ]
  },
  {
   "cell_type": "code",
   "execution_count": 35,
   "metadata": {},
   "outputs": [],
   "source": [
    "airfare_raw['cost_per_mile'] = airfare_raw['fare'] / airfare_raw['nsmiles']"
   ]
  },
  {
   "cell_type": "code",
   "execution_count": 36,
   "metadata": {},
   "outputs": [],
   "source": [
    "# Strip the city names away from the geo data\n",
    "airfare_raw['geo1'] = airfare_raw.Geocoded_City1.apply(lambda x: x.split('\\r')[1].split(','))\n",
    "airfare_raw['geo2'] = airfare_raw.Geocoded_City2.apply(lambda x: x.split('\\r')[1].split(','))"
   ]
  },
  {
   "cell_type": "code",
   "execution_count": 37,
   "metadata": {},
   "outputs": [],
   "source": [
    "# Create a new key that we can use to merge different years for comparison.\n",
    "airfare_raw['key'] = airfare_raw['city1'] + ',' + airfare_raw['city2']"
   ]
  },
  {
   "cell_type": "code",
   "execution_count": 38,
   "metadata": {},
   "outputs": [],
   "source": [
    "# Now let's narrow it down to 2017\n",
    "airfare2017 = airfare_raw[airfare_raw['Year'] == 2017]\n",
    "airfare2017_q2 =  airfare2017[airfare2017['quarter'] == 2]"
   ]
  },
  {
   "cell_type": "code",
   "execution_count": 39,
   "metadata": {},
   "outputs": [],
   "source": [
    "# Now let's grab the data from the same period in 2016 to compare changes in fares.\n",
    "airfare2016 = airfare_raw[airfare_raw['Year'] == 2016]\n",
    "airfare2016_q2 = airfare2016[airfare2016['quarter'] == 2]"
   ]
  },
  {
   "cell_type": "code",
   "execution_count": 40,
   "metadata": {},
   "outputs": [],
   "source": [
    "# Merge them\n",
    "merged = pd.merge(airfare2017_q2, airfare2016_q2, on='key')"
   ]
  },
  {
   "cell_type": "code",
   "execution_count": 41,
   "metadata": {},
   "outputs": [
    {
     "data": {
      "text/plain": [
       "36"
      ]
     },
     "execution_count": 41,
     "metadata": {},
     "output_type": "execute_result"
    }
   ],
   "source": [
    "# Let's make sure we didn't lose any routes in the merge\n",
    "len(airfare2016_q2) - len(merged)"
   ]
  },
  {
   "cell_type": "code",
   "execution_count": 25,
   "metadata": {},
   "outputs": [
    {
     "name": "stdout",
     "output_type": "stream",
     "text": [
      "<class 'pandas.core.frame.DataFrame'>\n",
      "Int64Index: 964 entries, 0 to 963\n",
      "Data columns (total 43 columns):\n",
      "Year_x              964 non-null int64\n",
      "quarter_x           964 non-null int64\n",
      "citymarketid_1_x    964 non-null int64\n",
      "citymarketid_2_x    964 non-null int64\n",
      "city1_x             964 non-null object\n",
      "city2_x             964 non-null object\n",
      "nsmiles_x           964 non-null int64\n",
      "passengers_x        964 non-null int64\n",
      "fare_x              964 non-null float64\n",
      "carrier_lg_x        964 non-null object\n",
      "large_ms_x          964 non-null float64\n",
      "fare_lg_x           964 non-null object\n",
      "carrier_low_x       964 non-null object\n",
      "lf_ms_x             964 non-null float64\n",
      "fare_low_x          964 non-null object\n",
      "table_1_flag_x      964 non-null int64\n",
      "Geocoded_City1_x    964 non-null object\n",
      "Geocoded_City2_x    964 non-null object\n",
      "cost_per_mile_x     964 non-null float64\n",
      "geo1_x              964 non-null object\n",
      "geo2_x              964 non-null object\n",
      "key                 964 non-null object\n",
      "Year_y              964 non-null int64\n",
      "quarter_y           964 non-null int64\n",
      "citymarketid_1_y    964 non-null int64\n",
      "citymarketid_2_y    964 non-null int64\n",
      "city1_y             964 non-null object\n",
      "city2_y             964 non-null object\n",
      "nsmiles_y           964 non-null int64\n",
      "passengers_y        964 non-null int64\n",
      "fare_y              964 non-null float64\n",
      "carrier_lg_y        964 non-null object\n",
      "large_ms_y          964 non-null float64\n",
      "fare_lg_y           964 non-null object\n",
      "carrier_low_y       964 non-null object\n",
      "lf_ms_y             964 non-null float64\n",
      "fare_low_y          964 non-null object\n",
      "table_1_flag_y      964 non-null int64\n",
      "Geocoded_City1_y    964 non-null object\n",
      "Geocoded_City2_y    964 non-null object\n",
      "cost_per_mile_y     964 non-null float64\n",
      "geo1_y              964 non-null object\n",
      "geo2_y              964 non-null object\n",
      "dtypes: float64(8), int64(14), object(21)\n",
      "memory usage: 331.4+ KB\n"
     ]
    }
   ],
   "source": [
    "merged.info()"
   ]
  },
  {
   "cell_type": "code",
   "execution_count": 20,
   "metadata": {},
   "outputs": [],
   "source": [
    "# Ok we lost 36 routes. That's 3.6% of the total routes. Not a huge issue."
   ]
  },
  {
   "cell_type": "code",
   "execution_count": 18,
   "metadata": {},
   "outputs": [],
   "source": [
    "# We don't need all these columns. Let's narrow it down to the basics.\n",
    "# Pro tip: x is 2017 and y is 2016.\n",
    "new_merged = merged.loc[:, ['city1_x', 'city2_x', 'geo1_x', 'geo2_x', 'nsmiles_x', 'fare_x', 'fare_low_x', 'carrier_low_x', \n",
    "                            'cost_per_mile_x' , 'passengers_x' ,'nsmiles_y', 'fare_y', 'fare_low_y', 'carrier_low_x' , 'cost_per_mile_y', 'passengers_y']]"
   ]
  },
  {
   "cell_type": "code",
   "execution_count": 19,
   "metadata": {},
   "outputs": [],
   "source": [
    "# Rename the columns.\n",
    "new_merged.columns = ['city', 'destination', 'city_geo', 'destination_geo', '2017_miles', '2017_fare',\n",
    "                     '2017_fare_low', 'carrier_low_2017', '2017_cpm', 'passengers_2017' , '2016_miles', '2016_fare', '2016_fare_low', 'carrier_low_2016', '2016_cpm' , 'passengers_2016']"
   ]
  },
  {
   "cell_type": "code",
   "execution_count": 42,
   "metadata": {},
   "outputs": [],
   "source": [
    "# Create new variables that show the change in average fare and cost per mile.\n",
    "new_merged['cpm_change'] = (new_merged['2017_cpm'] - new_merged['2016_cpm']) / new_merged['2016_cpm']\n",
    "new_merged['fare_change'] = (new_merged['2017_fare'] - new_merged['2016_fare']) / new_merged['2016_fare']\n",
    "# And another variable showing the city and destination.\n",
    "new_merged.to_csv(\"/Users/alexmahadevan/Code/Projects/airfare/export.csv\")"
   ]
  },
  {
   "cell_type": "code",
   "execution_count": 21,
   "metadata": {},
   "outputs": [
    {
     "name": "stdout",
     "output_type": "stream",
     "text": [
      "<class 'pandas.core.frame.DataFrame'>\n",
      "Int64Index: 964 entries, 0 to 963\n",
      "Data columns (total 18 columns):\n",
      "city                964 non-null object\n",
      "destination         964 non-null object\n",
      "city_geo            964 non-null object\n",
      "destination_geo     964 non-null object\n",
      "2017_miles          964 non-null int64\n",
      "2017_fare           964 non-null float64\n",
      "2017_fare_low       964 non-null object\n",
      "carrier_low_2017    964 non-null object\n",
      "2017_cpm            964 non-null float64\n",
      "passengers_2017     964 non-null int64\n",
      "2016_miles          964 non-null int64\n",
      "2016_fare           964 non-null float64\n",
      "2016_fare_low       964 non-null object\n",
      "carrier_low_2016    964 non-null object\n",
      "2016_cpm            964 non-null float64\n",
      "passengers_2016     964 non-null int64\n",
      "cpm_change          964 non-null float64\n",
      "fare_change         964 non-null float64\n",
      "dtypes: float64(6), int64(4), object(8)\n",
      "memory usage: 143.1+ KB\n"
     ]
    }
   ],
   "source": [
    "new_merged.info()"
   ]
  },
  {
   "cell_type": "code",
   "execution_count": 25,
   "metadata": {},
   "outputs": [],
   "source": [
    "final_airfare = new_merged"
   ]
  },
  {
   "cell_type": "code",
   "execution_count": 26,
   "metadata": {
    "scrolled": false
   },
   "outputs": [
    {
     "data": {
      "text/plain": [
       "223.97699170124483"
      ]
     },
     "execution_count": 26,
     "metadata": {},
     "output_type": "execute_result"
    }
   ],
   "source": [
    "# What was the average fare across all flight paths in the U.S.?\n",
    "final_airfare['2017_fare'].mean()"
   ]
  },
  {
   "cell_type": "code",
   "execution_count": 31,
   "metadata": {},
   "outputs": [
    {
     "data": {
      "text/plain": [
       "1020408"
      ]
     },
     "execution_count": 31,
     "metadata": {},
     "output_type": "execute_result"
    }
   ],
   "source": [
    "# How many people traveled each day last spring?\n",
    "final_airfare['passengers_2017'].sum()"
   ]
  },
  {
   "cell_type": "code",
   "execution_count": 32,
   "metadata": {},
   "outputs": [
    {
     "data": {
      "text/plain": [
       "0.01519741175553455"
      ]
     },
     "execution_count": 32,
     "metadata": {},
     "output_type": "execute_result"
    }
   ],
   "source": [
    "# How did the average airplane ticket change between Spring 2016 and Spring 2017?\n",
    "(final_airfare['2017_fare'].mean() - final_airfare['2016_fare'].mean()) / final_airfare['2016_fare'].mean()"
   ]
  },
  {
   "cell_type": "markdown",
   "metadata": {},
   "source": [
    "<b><p>Check out the final version of this story at The Penny Hoarder!</p></b>"
   ]
  }
 ],
 "metadata": {
  "kernelspec": {
   "display_name": "Python 3",
   "language": "python",
   "name": "python3"
  },
  "language_info": {
   "codemirror_mode": {
    "name": "ipython",
    "version": 3
   },
   "file_extension": ".py",
   "mimetype": "text/x-python",
   "name": "python",
   "nbconvert_exporter": "python",
   "pygments_lexer": "ipython3",
   "version": "3.6.1"
  }
 },
 "nbformat": 4,
 "nbformat_minor": 2
}
